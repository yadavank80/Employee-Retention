{
 "cells": [
  {
   "cell_type": "markdown",
   "metadata": {},
   "source": [
    "<h1 style=\"font-size:42px; text-align:center;\">2. Data Cleaning and Feature Engineering</h1>\n",
    "<hr>"
   ]
  },
  {
   "cell_type": "code",
   "execution_count": 97,
   "metadata": {},
   "outputs": [],
   "source": [
    "import numpy as np\n",
    "import pandas as pd\n",
    "\n",
    "import matplotlib.pyplot as plt\n",
    "%matplotlib inline\n",
    "\n",
    "import seaborn as sns"
   ]
  },
  {
   "cell_type": "code",
   "execution_count": 98,
   "metadata": {},
   "outputs": [],
   "source": [
    "df = pd.read_csv('./Data/employee_data.csv')"
   ]
  },
  {
   "cell_type": "markdown",
   "metadata": {},
   "source": [
    "# Drop wanted observations"
   ]
  },
  {
   "cell_type": "code",
   "execution_count": 99,
   "metadata": {},
   "outputs": [
    {
     "name": "stdout",
     "output_type": "stream",
     "text": [
      "Shape before dropping: (14249, 10)\n",
      "Shape after dropping: (14221, 10)\n"
     ]
    }
   ],
   "source": [
    "print('Shape before dropping: {}'.format(df.shape))\n",
    "df = df.drop_duplicates()\n",
    "print('Shape after dropping: {}'.format(df.shape))"
   ]
  },
  {
   "cell_type": "markdown",
   "metadata": {},
   "source": [
    "***See we had some duplicate observations in the data***"
   ]
  },
  {
   "cell_type": "code",
   "execution_count": 100,
   "metadata": {},
   "outputs": [
    {
     "data": {
      "text/plain": [
       "array(['engineering', 'support', 'sales', 'IT', 'product', 'marketing',\n",
       "       'temp', 'procurement', 'finance', nan, 'management',\n",
       "       'information_technology', 'admin'], dtype=object)"
      ]
     },
     "execution_count": 100,
     "metadata": {},
     "output_type": "execute_result"
    }
   ],
   "source": [
    "depts = df.department.unique()\n",
    "depts"
   ]
  },
  {
   "cell_type": "markdown",
   "metadata": {},
   "source": [
    "> * We can drop all observations which belong to <code style=\"color:crimson\">temp</code> department as the employees in this department are already temporary. They'd leave sooner or later."
   ]
  },
  {
   "cell_type": "code",
   "execution_count": 101,
   "metadata": {
    "scrolled": true
   },
   "outputs": [
    {
     "name": "stdout",
     "output_type": "stream",
     "text": [
      "(14068, 10)\n"
     ]
    }
   ],
   "source": [
    "tempidx = df[df.department == 'temp'].index #returning index of rows having department = temp\n",
    "df = df.drop(index=tempidx)\n",
    "print(df.shape)"
   ]
  },
  {
   "cell_type": "markdown",
   "metadata": {},
   "source": [
    "# Fix structural errors"
   ]
  },
  {
   "cell_type": "code",
   "execution_count": 102,
   "metadata": {},
   "outputs": [
    {
     "name": "stdout",
     "output_type": "stream",
     "text": [
      "[nan  1.]\n",
      "[nan  1.]\n"
     ]
    }
   ],
   "source": [
    "print(df.filed_complaint.unique())\n",
    "print(df.recently_promoted.unique())"
   ]
  },
  {
   "cell_type": "markdown",
   "metadata": {},
   "source": [
    "> * Looks like <code style=\"color:crimson\">filed_complaint</code> and <code style=\"color:crimson\">recently_promoted</code> features are binary feature, ***1->True and NaN -> False***.<br>\n",
    "Algorithms can't handle NaN values hance replacing them with 0."
   ]
  },
  {
   "cell_type": "code",
   "execution_count": 103,
   "metadata": {},
   "outputs": [],
   "source": [
    "df.filed_complaint = df.filed_complaint.fillna(0)\n",
    "df.recently_promoted = df.recently_promoted.fillna(0)"
   ]
  },
  {
   "cell_type": "markdown",
   "metadata": {},
   "source": [
    "**After replacing:**"
   ]
  },
  {
   "cell_type": "code",
   "execution_count": 104,
   "metadata": {},
   "outputs": [
    {
     "name": "stdout",
     "output_type": "stream",
     "text": [
      "[0. 1.]\n",
      "[0. 1.]\n"
     ]
    }
   ],
   "source": [
    "print(df.filed_complaint.unique())\n",
    "print(df.recently_promoted.unique())"
   ]
  },
  {
   "cell_type": "markdown",
   "metadata": {},
   "source": [
    "> * From cell no 100, we can see we have two features, <code style=\"color:crimson\">information_technology</code> and <code style=\"color:crimson\">IT</code> which are same features with different names.<br>\n",
    "Therefore, combining them together under one feature <code style=\"color:crimson\">IT</code>"
   ]
  },
  {
   "cell_type": "code",
   "execution_count": 105,
   "metadata": {},
   "outputs": [
    {
     "data": {
      "image/png": "[encoded data removed]",
      "text/plain": [
       "<Figure size 576x576 with 1 Axes>"
      ]
     },
     "metadata": {},
     "output_type": "display_data"
    }
   ],
   "source": [
    "df.replace('information_technology', 'IT', inplace=True)\n",
    "\n",
    "plt.figure(figsize=(8,8))\n",
    "sns.countplot(y='department', data = df)\n",
    "plt.show()"
   ]
  },
  {
   "cell_type": "markdown",
   "metadata": {},
   "source": [
    "# Handling missing data"
   ]
  },
  {
   "cell_type": "code",
   "execution_count": 106,
   "metadata": {},
   "outputs": [
    {
     "name": "stdout",
     "output_type": "stream",
     "text": [
      "avg_monthly_hrs         0\n",
      "department            709\n",
      "filed_complaint         0\n",
      "last_evaluation      1351\n",
      "n_projects              0\n",
      "recently_promoted       0\n",
      "salary                  0\n",
      "satisfaction            0\n",
      "status                  0\n",
      "tenure                  0\n",
      "dtype: int64\n"
     ]
    }
   ],
   "source": [
    "print(df.isnull().sum())"
   ]
  },
  {
   "cell_type": "markdown",
   "metadata": {},
   "source": [
    "**Missing values found in <code style=\"color:steelblue\">department</code>, flagging them as <code style=\"color:crimson\">\"Missing\"</code>.**"
   ]
  },
  {
   "cell_type": "code",
   "execution_count": 107,
   "metadata": {},
   "outputs": [],
   "source": [
    "df.department = df.department.fillna('Missing')"
   ]
  },
  {
   "cell_type": "markdown",
   "metadata": {},
   "source": [
    "**Missing values aslo found in <code style=\"color:steelblue\">last_evaluation</code>, flagging with binary values:**\n",
    "* <code style=\"color:crimson\">0</code> if not missing.\n",
    "* <code style=\"color:crimson\">1</code> if missing. "
   ]
  },
  {
   "cell_type": "code",
   "execution_count": 108,
   "metadata": {},
   "outputs": [],
   "source": [
    "df['last_evaluation_missing'] = df.last_evaluation.isnull().astype(int) #or use isnull() for directly filling null as true\n",
    "df.last_evaluation = df.last_evaluation.fillna(0)"
   ]
  },
  {
   "cell_type": "markdown",
   "metadata": {},
   "source": [
    "### Confirming missing values again"
   ]
  },
  {
   "cell_type": "code",
   "execution_count": 111,
   "metadata": {},
   "outputs": [
    {
     "data": {
      "text/plain": [
       "avg_monthly_hrs            0\n",
       "department                 0\n",
       "filed_complaint            0\n",
       "last_evaluation            0\n",
       "n_projects                 0\n",
       "recently_promoted          0\n",
       "salary                     0\n",
       "satisfaction               0\n",
       "status                     0\n",
       "tenure                     0\n",
       "last_evaluation_missing    0\n",
       "dtype: int64"
      ]
     },
     "execution_count": 111,
     "metadata": {},
     "output_type": "execute_result"
    }
   ],
   "source": [
    "df.isnull().sum()"
   ]
  },
  {
   "cell_type": "markdown",
   "metadata": {},
   "source": [
    "## Conclusion:\n",
    "> * Removed duplicate observations<br>\n",
    "> * Combined similar columns/features<br>\n",
    "> * Flagged Missing values<br>\n",
    "<hr>"
   ]
  },
  {
   "cell_type": "markdown",
   "metadata": {},
   "source": [
    "# Engineer features\n",
    "We have seen during EDA that there is scope of engineering a feature based on <code style=\"color:steelblue\">satisfaction</code> and <code style=\"color:steelblue\">last_evaluation</code>"
   ]
  },
  {
   "cell_type": "code",
   "execution_count": 112,
   "metadata": {},
   "outputs": [
    {
     "data": {
      "text/plain": [
       "<Figure size 576x576 with 0 Axes>"
      ]
     },
     "metadata": {},
     "output_type": "display_data"
    },
    {
     "data": {
      "image/png": "[encoded data removed]",
      "text/plain": [
       "<Figure size 360x360 with 1 Axes>"
      ]
     },
     "metadata": {},
     "output_type": "display_data"
    }
   ],
   "source": [
    "plt.figure(figsize=(8,8))\n",
    "sns.lmplot(data=df[df.status == 'Left'], x='satisfaction', y='last_evaluation', fit_reg=False)\n",
    "plt.show()"
   ]
  },
  {
   "cell_type": "markdown",
   "metadata": {},
   "source": [
    "**Let's create indicators to describe above distribution of data:**\n",
    "* <code style=\"color:steelblue\">underperformer</code> - last_evaluation < 0.6 and last_evaluation_missing == 0\n",
    "* <code style=\"color:steelblue\">unhappy</code> - satisfaction_level < 0.2\n",
    "* <code style=\"color:steelblue\">overachiever</code> - last_evaluation > 0.8 and satisfaction > 0.7"
   ]
  },
  {
   "cell_type": "code",
   "execution_count": 113,
   "metadata": {
    "scrolled": true
   },
   "outputs": [],
   "source": [
    "df['unhappy'] = (df.satisfaction < 0.2).astype(int)\n",
    "df['overachiever'] = ((df.satisfaction > 0.7) & (df.last_evaluation > 0.8)).astype(int)\n",
    "df['underperformer'] = ((df.satisfaction < 0.6) & (df.last_evaluation_missing == 0)).astype(int) #avoiding missing observations"
   ]
  },
  {
   "cell_type": "code",
   "execution_count": 114,
   "metadata": {},
   "outputs": [
    {
     "data": {
      "text/plain": [
       "underperformer    0.391314\n",
       "unhappy           0.092195\n",
       "overachiever      0.177069\n",
       "dtype: float64"
      ]
     },
     "execution_count": 114,
     "metadata": {},
     "output_type": "execute_result"
    }
   ],
   "source": [
    "df[['underperformer', 'unhappy', 'overachiever']].mean()"
   ]
  },
  {
   "cell_type": "markdown",
   "metadata": {},
   "source": [
    "# Get dummy variables <span style=\"font-size: 15px;\">for categorical data</span>"
   ]
  },
  {
   "cell_type": "code",
   "execution_count": 117,
   "metadata": {},
   "outputs": [
    {
     "data": {
      "text/html": [
       "<div>\n",
       "<style scoped>\n",
       "    .dataframe tbody tr th:only-of-type {\n",
       "        vertical-align: middle;\n",
       "    }\n",
       "\n",
       "    .dataframe tbody tr th {\n",
       "        vertical-align: top;\n",
       "    }\n",
       "\n",
       "    .dataframe thead th {\n",
       "        text-align: right;\n",
       "    }\n",
       "</style>\n",
       "<table border=\"1\" class=\"dataframe\">\n",
       "  <thead>\n",
       "    <tr style=\"text-align: right;\">\n",
       "      <th></th>\n",
       "      <th>avg_monthly_hrs</th>\n",
       "      <th>department</th>\n",
       "      <th>filed_complaint</th>\n",
       "      <th>last_evaluation</th>\n",
       "      <th>n_projects</th>\n",
       "      <th>recently_promoted</th>\n",
       "      <th>salary</th>\n",
       "      <th>satisfaction</th>\n",
       "      <th>status</th>\n",
       "      <th>tenure</th>\n",
       "      <th>last_evaluation_missing</th>\n",
       "      <th>unhappy</th>\n",
       "      <th>overachiever</th>\n",
       "      <th>underperformer</th>\n",
       "    </tr>\n",
       "  </thead>\n",
       "  <tbody>\n",
       "    <tr>\n",
       "      <th>0</th>\n",
       "      <td>221</td>\n",
       "      <td>engineering</td>\n",
       "      <td>0.0</td>\n",
       "      <td>0.932868</td>\n",
       "      <td>4</td>\n",
       "      <td>0.0</td>\n",
       "      <td>low</td>\n",
       "      <td>0.829896</td>\n",
       "      <td>Left</td>\n",
       "      <td>5.0</td>\n",
       "      <td>0</td>\n",
       "      <td>0</td>\n",
       "      <td>1</td>\n",
       "      <td>0</td>\n",
       "    </tr>\n",
       "    <tr>\n",
       "      <th>1</th>\n",
       "      <td>232</td>\n",
       "      <td>support</td>\n",
       "      <td>0.0</td>\n",
       "      <td>0.000000</td>\n",
       "      <td>3</td>\n",
       "      <td>0.0</td>\n",
       "      <td>low</td>\n",
       "      <td>0.834544</td>\n",
       "      <td>Employed</td>\n",
       "      <td>2.0</td>\n",
       "      <td>1</td>\n",
       "      <td>0</td>\n",
       "      <td>0</td>\n",
       "      <td>0</td>\n",
       "    </tr>\n",
       "    <tr>\n",
       "      <th>2</th>\n",
       "      <td>184</td>\n",
       "      <td>sales</td>\n",
       "      <td>0.0</td>\n",
       "      <td>0.788830</td>\n",
       "      <td>3</td>\n",
       "      <td>0.0</td>\n",
       "      <td>medium</td>\n",
       "      <td>0.834988</td>\n",
       "      <td>Employed</td>\n",
       "      <td>3.0</td>\n",
       "      <td>0</td>\n",
       "      <td>0</td>\n",
       "      <td>0</td>\n",
       "      <td>0</td>\n",
       "    </tr>\n",
       "    <tr>\n",
       "      <th>3</th>\n",
       "      <td>206</td>\n",
       "      <td>sales</td>\n",
       "      <td>0.0</td>\n",
       "      <td>0.575688</td>\n",
       "      <td>4</td>\n",
       "      <td>0.0</td>\n",
       "      <td>low</td>\n",
       "      <td>0.424764</td>\n",
       "      <td>Employed</td>\n",
       "      <td>2.0</td>\n",
       "      <td>0</td>\n",
       "      <td>0</td>\n",
       "      <td>0</td>\n",
       "      <td>1</td>\n",
       "    </tr>\n",
       "    <tr>\n",
       "      <th>4</th>\n",
       "      <td>249</td>\n",
       "      <td>sales</td>\n",
       "      <td>0.0</td>\n",
       "      <td>0.845217</td>\n",
       "      <td>3</td>\n",
       "      <td>0.0</td>\n",
       "      <td>low</td>\n",
       "      <td>0.779043</td>\n",
       "      <td>Employed</td>\n",
       "      <td>3.0</td>\n",
       "      <td>0</td>\n",
       "      <td>0</td>\n",
       "      <td>1</td>\n",
       "      <td>0</td>\n",
       "    </tr>\n",
       "  </tbody>\n",
       "</table>\n",
       "</div>"
      ],
      "text/plain": [
       "   avg_monthly_hrs   department  filed_complaint  last_evaluation  n_projects  \\\n",
       "0              221  engineering              0.0         0.932868           4   \n",
       "1              232      support              0.0         0.000000           3   \n",
       "2              184        sales              0.0         0.788830           3   \n",
       "3              206        sales              0.0         0.575688           4   \n",
       "4              249        sales              0.0         0.845217           3   \n",
       "\n",
       "   recently_promoted  salary  satisfaction    status  tenure  \\\n",
       "0                0.0     low      0.829896      Left     5.0   \n",
       "1                0.0     low      0.834544  Employed     2.0   \n",
       "2                0.0  medium      0.834988  Employed     3.0   \n",
       "3                0.0     low      0.424764  Employed     2.0   \n",
       "4                0.0     low      0.779043  Employed     3.0   \n",
       "\n",
       "   last_evaluation_missing  unhappy  overachiever  underperformer  \n",
       "0                        0        0             1               0  \n",
       "1                        1        0             0               0  \n",
       "2                        0        0             0               0  \n",
       "3                        0        0             0               1  \n",
       "4                        0        0             1               0  "
      ]
     },
     "execution_count": 117,
     "metadata": {},
     "output_type": "execute_result"
    }
   ],
   "source": [
    "df.head()"
   ]
  },
  {
   "cell_type": "code",
   "execution_count": 118,
   "metadata": {},
   "outputs": [],
   "source": [
    "df['status'] = pd.get_dummies( df.status ).Left"
   ]
  },
  {
   "cell_type": "code",
   "execution_count": 131,
   "metadata": {},
   "outputs": [
    {
     "data": {
      "text/html": [
       "<div>\n",
       "<style scoped>\n",
       "    .dataframe tbody tr th:only-of-type {\n",
       "        vertical-align: middle;\n",
       "    }\n",
       "\n",
       "    .dataframe tbody tr th {\n",
       "        vertical-align: top;\n",
       "    }\n",
       "\n",
       "    .dataframe thead th {\n",
       "        text-align: right;\n",
       "    }\n",
       "</style>\n",
       "<table border=\"1\" class=\"dataframe\">\n",
       "  <thead>\n",
       "    <tr style=\"text-align: right;\">\n",
       "      <th></th>\n",
       "      <th>avg_monthly_hrs</th>\n",
       "      <th>filed_complaint</th>\n",
       "      <th>last_evaluation</th>\n",
       "      <th>n_projects</th>\n",
       "      <th>recently_promoted</th>\n",
       "      <th>satisfaction</th>\n",
       "      <th>status</th>\n",
       "      <th>tenure</th>\n",
       "      <th>last_evaluation_missing</th>\n",
       "      <th>unhappy</th>\n",
       "      <th>...</th>\n",
       "      <th>department_finance</th>\n",
       "      <th>department_management</th>\n",
       "      <th>department_marketing</th>\n",
       "      <th>department_procurement</th>\n",
       "      <th>department_product</th>\n",
       "      <th>department_sales</th>\n",
       "      <th>department_support</th>\n",
       "      <th>salary_high</th>\n",
       "      <th>salary_low</th>\n",
       "      <th>salary_medium</th>\n",
       "    </tr>\n",
       "  </thead>\n",
       "  <tbody>\n",
       "    <tr>\n",
       "      <th>0</th>\n",
       "      <td>221</td>\n",
       "      <td>0.0</td>\n",
       "      <td>0.932868</td>\n",
       "      <td>4</td>\n",
       "      <td>0.0</td>\n",
       "      <td>0.829896</td>\n",
       "      <td>1</td>\n",
       "      <td>5.0</td>\n",
       "      <td>0</td>\n",
       "      <td>0</td>\n",
       "      <td>...</td>\n",
       "      <td>0</td>\n",
       "      <td>0</td>\n",
       "      <td>0</td>\n",
       "      <td>0</td>\n",
       "      <td>0</td>\n",
       "      <td>0</td>\n",
       "      <td>0</td>\n",
       "      <td>0</td>\n",
       "      <td>1</td>\n",
       "      <td>0</td>\n",
       "    </tr>\n",
       "    <tr>\n",
       "      <th>1</th>\n",
       "      <td>232</td>\n",
       "      <td>0.0</td>\n",
       "      <td>0.000000</td>\n",
       "      <td>3</td>\n",
       "      <td>0.0</td>\n",
       "      <td>0.834544</td>\n",
       "      <td>0</td>\n",
       "      <td>2.0</td>\n",
       "      <td>1</td>\n",
       "      <td>0</td>\n",
       "      <td>...</td>\n",
       "      <td>0</td>\n",
       "      <td>0</td>\n",
       "      <td>0</td>\n",
       "      <td>0</td>\n",
       "      <td>0</td>\n",
       "      <td>0</td>\n",
       "      <td>1</td>\n",
       "      <td>0</td>\n",
       "      <td>1</td>\n",
       "      <td>0</td>\n",
       "    </tr>\n",
       "    <tr>\n",
       "      <th>2</th>\n",
       "      <td>184</td>\n",
       "      <td>0.0</td>\n",
       "      <td>0.788830</td>\n",
       "      <td>3</td>\n",
       "      <td>0.0</td>\n",
       "      <td>0.834988</td>\n",
       "      <td>0</td>\n",
       "      <td>3.0</td>\n",
       "      <td>0</td>\n",
       "      <td>0</td>\n",
       "      <td>...</td>\n",
       "      <td>0</td>\n",
       "      <td>0</td>\n",
       "      <td>0</td>\n",
       "      <td>0</td>\n",
       "      <td>0</td>\n",
       "      <td>1</td>\n",
       "      <td>0</td>\n",
       "      <td>0</td>\n",
       "      <td>0</td>\n",
       "      <td>1</td>\n",
       "    </tr>\n",
       "    <tr>\n",
       "      <th>3</th>\n",
       "      <td>206</td>\n",
       "      <td>0.0</td>\n",
       "      <td>0.575688</td>\n",
       "      <td>4</td>\n",
       "      <td>0.0</td>\n",
       "      <td>0.424764</td>\n",
       "      <td>0</td>\n",
       "      <td>2.0</td>\n",
       "      <td>0</td>\n",
       "      <td>0</td>\n",
       "      <td>...</td>\n",
       "      <td>0</td>\n",
       "      <td>0</td>\n",
       "      <td>0</td>\n",
       "      <td>0</td>\n",
       "      <td>0</td>\n",
       "      <td>1</td>\n",
       "      <td>0</td>\n",
       "      <td>0</td>\n",
       "      <td>1</td>\n",
       "      <td>0</td>\n",
       "    </tr>\n",
       "    <tr>\n",
       "      <th>4</th>\n",
       "      <td>249</td>\n",
       "      <td>0.0</td>\n",
       "      <td>0.845217</td>\n",
       "      <td>3</td>\n",
       "      <td>0.0</td>\n",
       "      <td>0.779043</td>\n",
       "      <td>0</td>\n",
       "      <td>3.0</td>\n",
       "      <td>0</td>\n",
       "      <td>0</td>\n",
       "      <td>...</td>\n",
       "      <td>0</td>\n",
       "      <td>0</td>\n",
       "      <td>0</td>\n",
       "      <td>0</td>\n",
       "      <td>0</td>\n",
       "      <td>1</td>\n",
       "      <td>0</td>\n",
       "      <td>0</td>\n",
       "      <td>1</td>\n",
       "      <td>0</td>\n",
       "    </tr>\n",
       "    <tr>\n",
       "      <th>5</th>\n",
       "      <td>140</td>\n",
       "      <td>0.0</td>\n",
       "      <td>0.589097</td>\n",
       "      <td>4</td>\n",
       "      <td>0.0</td>\n",
       "      <td>0.660020</td>\n",
       "      <td>0</td>\n",
       "      <td>4.0</td>\n",
       "      <td>0</td>\n",
       "      <td>0</td>\n",
       "      <td>...</td>\n",
       "      <td>0</td>\n",
       "      <td>0</td>\n",
       "      <td>0</td>\n",
       "      <td>0</td>\n",
       "      <td>0</td>\n",
       "      <td>1</td>\n",
       "      <td>0</td>\n",
       "      <td>0</td>\n",
       "      <td>0</td>\n",
       "      <td>1</td>\n",
       "    </tr>\n",
       "    <tr>\n",
       "      <th>6</th>\n",
       "      <td>121</td>\n",
       "      <td>1.0</td>\n",
       "      <td>0.625399</td>\n",
       "      <td>3</td>\n",
       "      <td>0.0</td>\n",
       "      <td>0.835571</td>\n",
       "      <td>0</td>\n",
       "      <td>3.0</td>\n",
       "      <td>0</td>\n",
       "      <td>0</td>\n",
       "      <td>...</td>\n",
       "      <td>0</td>\n",
       "      <td>0</td>\n",
       "      <td>0</td>\n",
       "      <td>0</td>\n",
       "      <td>0</td>\n",
       "      <td>1</td>\n",
       "      <td>0</td>\n",
       "      <td>0</td>\n",
       "      <td>1</td>\n",
       "      <td>0</td>\n",
       "    </tr>\n",
       "    <tr>\n",
       "      <th>7</th>\n",
       "      <td>150</td>\n",
       "      <td>0.0</td>\n",
       "      <td>0.644586</td>\n",
       "      <td>4</td>\n",
       "      <td>0.0</td>\n",
       "      <td>0.796683</td>\n",
       "      <td>0</td>\n",
       "      <td>3.0</td>\n",
       "      <td>0</td>\n",
       "      <td>0</td>\n",
       "      <td>...</td>\n",
       "      <td>0</td>\n",
       "      <td>0</td>\n",
       "      <td>0</td>\n",
       "      <td>0</td>\n",
       "      <td>0</td>\n",
       "      <td>0</td>\n",
       "      <td>0</td>\n",
       "      <td>0</td>\n",
       "      <td>1</td>\n",
       "      <td>0</td>\n",
       "    </tr>\n",
       "    <tr>\n",
       "      <th>8</th>\n",
       "      <td>215</td>\n",
       "      <td>1.0</td>\n",
       "      <td>0.524114</td>\n",
       "      <td>3</td>\n",
       "      <td>0.0</td>\n",
       "      <td>0.715005</td>\n",
       "      <td>0</td>\n",
       "      <td>7.0</td>\n",
       "      <td>0</td>\n",
       "      <td>0</td>\n",
       "      <td>...</td>\n",
       "      <td>0</td>\n",
       "      <td>0</td>\n",
       "      <td>0</td>\n",
       "      <td>0</td>\n",
       "      <td>0</td>\n",
       "      <td>0</td>\n",
       "      <td>0</td>\n",
       "      <td>0</td>\n",
       "      <td>0</td>\n",
       "      <td>1</td>\n",
       "    </tr>\n",
       "    <tr>\n",
       "      <th>9</th>\n",
       "      <td>269</td>\n",
       "      <td>0.0</td>\n",
       "      <td>0.909364</td>\n",
       "      <td>5</td>\n",
       "      <td>0.0</td>\n",
       "      <td>0.994037</td>\n",
       "      <td>0</td>\n",
       "      <td>2.0</td>\n",
       "      <td>0</td>\n",
       "      <td>0</td>\n",
       "      <td>...</td>\n",
       "      <td>0</td>\n",
       "      <td>0</td>\n",
       "      <td>0</td>\n",
       "      <td>0</td>\n",
       "      <td>0</td>\n",
       "      <td>0</td>\n",
       "      <td>1</td>\n",
       "      <td>0</td>\n",
       "      <td>0</td>\n",
       "      <td>1</td>\n",
       "    </tr>\n",
       "  </tbody>\n",
       "</table>\n",
       "<p>10 rows × 26 columns</p>\n",
       "</div>"
      ],
      "text/plain": [
       "   avg_monthly_hrs  filed_complaint  last_evaluation  n_projects  \\\n",
       "0              221              0.0         0.932868           4   \n",
       "1              232              0.0         0.000000           3   \n",
       "2              184              0.0         0.788830           3   \n",
       "3              206              0.0         0.575688           4   \n",
       "4              249              0.0         0.845217           3   \n",
       "5              140              0.0         0.589097           4   \n",
       "6              121              1.0         0.625399           3   \n",
       "7              150              0.0         0.644586           4   \n",
       "8              215              1.0         0.524114           3   \n",
       "9              269              0.0         0.909364           5   \n",
       "\n",
       "   recently_promoted  satisfaction  status  tenure  last_evaluation_missing  \\\n",
       "0                0.0      0.829896       1     5.0                        0   \n",
       "1                0.0      0.834544       0     2.0                        1   \n",
       "2                0.0      0.834988       0     3.0                        0   \n",
       "3                0.0      0.424764       0     2.0                        0   \n",
       "4                0.0      0.779043       0     3.0                        0   \n",
       "5                0.0      0.660020       0     4.0                        0   \n",
       "6                0.0      0.835571       0     3.0                        0   \n",
       "7                0.0      0.796683       0     3.0                        0   \n",
       "8                0.0      0.715005       0     7.0                        0   \n",
       "9                0.0      0.994037       0     2.0                        0   \n",
       "\n",
       "   unhappy      ...        department_finance  department_management  \\\n",
       "0        0      ...                         0                      0   \n",
       "1        0      ...                         0                      0   \n",
       "2        0      ...                         0                      0   \n",
       "3        0      ...                         0                      0   \n",
       "4        0      ...                         0                      0   \n",
       "5        0      ...                         0                      0   \n",
       "6        0      ...                         0                      0   \n",
       "7        0      ...                         0                      0   \n",
       "8        0      ...                         0                      0   \n",
       "9        0      ...                         0                      0   \n",
       "\n",
       "   department_marketing  department_procurement  department_product  \\\n",
       "0                     0                       0                   0   \n",
       "1                     0                       0                   0   \n",
       "2                     0                       0                   0   \n",
       "3                     0                       0                   0   \n",
       "4                     0                       0                   0   \n",
       "5                     0                       0                   0   \n",
       "6                     0                       0                   0   \n",
       "7                     0                       0                   0   \n",
       "8                     0                       0                   0   \n",
       "9                     0                       0                   0   \n",
       "\n",
       "   department_sales  department_support  salary_high  salary_low  \\\n",
       "0                 0                   0            0           1   \n",
       "1                 0                   1            0           1   \n",
       "2                 1                   0            0           0   \n",
       "3                 1                   0            0           1   \n",
       "4                 1                   0            0           1   \n",
       "5                 1                   0            0           0   \n",
       "6                 1                   0            0           1   \n",
       "7                 0                   0            0           1   \n",
       "8                 0                   0            0           0   \n",
       "9                 0                   1            0           0   \n",
       "\n",
       "   salary_medium  \n",
       "0              0  \n",
       "1              0  \n",
       "2              1  \n",
       "3              0  \n",
       "4              0  \n",
       "5              1  \n",
       "6              0  \n",
       "7              0  \n",
       "8              1  \n",
       "9              1  \n",
       "\n",
       "[10 rows x 26 columns]"
      ]
     },
     "execution_count": 131,
     "metadata": {},
     "output_type": "execute_result"
    }
   ],
   "source": [
    "fdf = pd.get_dummies(data = df, columns = ['department', 'salary'])\n",
    "fdf.head(10)"
   ]
  },
  {
   "cell_type": "code",
   "execution_count": 133,
   "metadata": {},
   "outputs": [],
   "source": [
    "fdf.to_csv('./Data/final_employee_data.csv', index = None)"
   ]
  },
  {
   "cell_type": "code",
   "execution_count": null,
   "metadata": {},
   "outputs": [],
   "source": []
  }
 ],
 "metadata": {
  "anaconda-cloud": {},
  "kernelspec": {
   "display_name": "Python 3",
   "language": "python",
   "name": "python3"
  },
  "language_info": {
   "codemirror_mode": {
    "name": "ipython",
    "version": 3
   },
   "file_extension": ".py",
   "mimetype": "text/x-python",
   "name": "python",
   "nbconvert_exporter": "python",
   "pygments_lexer": "ipython3",
   "version": "3.6.5"
  }
 },
 "nbformat": 4,
 "nbformat_minor": 1
}
